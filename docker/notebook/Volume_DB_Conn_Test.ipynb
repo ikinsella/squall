{
 "cells": [
  {
   "cell_type": "code",
   "execution_count": 4,
   "metadata": {
    "collapsed": false
   },
   "outputs": [],
   "source": [
    "import test\n",
    "from pymongo import MongoClient\n",
    "import os"
   ]
  },
  {
   "cell_type": "code",
   "execution_count": 2,
   "metadata": {
    "collapsed": false
   },
   "outputs": [
    {
     "name": "stdout",
     "output_type": "stream",
     "text": [
      "hello world!!!\n"
     ]
    }
   ],
   "source": [
    "test.hello_world('!')"
   ]
  },
  {
   "cell_type": "code",
   "execution_count": 5,
   "metadata": {
    "collapsed": true
   },
   "outputs": [],
   "source": [
    "client = MongoClient(os.environ['DB_PORT_27017_TCP_ADDR'], 27017)\n",
    "db = client.post_database"
   ]
  },
  {
   "cell_type": "code",
   "execution_count": 12,
   "metadata": {
    "collapsed": false
   },
   "outputs": [
    {
     "name": "stdout",
     "output_type": "stream",
     "text": [
      "Name:test Description:1111\n",
      "{'_id': ObjectId('561ca3356d6149000b09b83b'), 'description': '1111', 'name': 'test'}\n",
      "Name:test2 Description:2222\n",
      "{'_id': ObjectId('561ca42f6d6149000ab40aad'), 'description': '2222', 'name': 'test2'}\n",
      "Name:test3 Description:3333\n",
      "{'_id': ObjectId('561ca8616d6149000c56a2c5'), 'description': '3333', 'name': 'test3'}\n"
     ]
    }
   ],
   "source": [
    "for experiment in db.experiments.find():\n",
    "    print('Name:'+experiment['name'], 'Description:' + experiment['description'])\n",
    "    print(experiment)"
   ]
  },
  {
   "cell_type": "code",
   "execution_count": 14,
   "metadata": {
    "collapsed": false
   },
   "outputs": [
    {
     "data": {
      "text/plain": [
       "<pymongo.results.InsertOneResult at 0x7fab72cf0c60>"
      ]
     },
     "execution_count": 14,
     "metadata": {},
     "output_type": "execute_result"
    }
   ],
   "source": [
    "new = {\"description\":\"Well this is new...\", \"name\":\"New\", \"Params\":[1,2,3,4,5]}\n",
    "db.experiments.insert_one(new)"
   ]
  },
  {
   "cell_type": "code",
   "execution_count": 15,
   "metadata": {
    "collapsed": false
   },
   "outputs": [
    {
     "name": "stdout",
     "output_type": "stream",
     "text": [
      "Name:test Description:1111\n",
      "{'_id': ObjectId('561ca3356d6149000b09b83b'), 'description': '1111', 'name': 'test'}\n",
      "Name:test2 Description:2222\n",
      "{'_id': ObjectId('561ca42f6d6149000ab40aad'), 'description': '2222', 'name': 'test2'}\n",
      "Name:test3 Description:3333\n",
      "{'_id': ObjectId('561ca8616d6149000c56a2c5'), 'description': '3333', 'name': 'test3'}\n",
      "Name:New Description:Well this is new...\n",
      "{'_id': ObjectId('561cacdba01fd5001c7e838f'), 'description': 'Well this is new...', 'name': 'New', 'Params': [1, 2, 3, 4, 5]}\n"
     ]
    }
   ],
   "source": [
    "for experiment in db.experiments.find():\n",
    "    print('Name:'+experiment['name'], 'Description:' + experiment['description'])\n",
    "    print(experiment)"
   ]
  },
  {
   "cell_type": "code",
   "execution_count": null,
   "metadata": {
    "collapsed": true
   },
   "outputs": [],
   "source": []
  }
 ],
 "metadata": {
  "kernelspec": {
   "display_name": "Python 3",
   "language": "python",
   "name": "python3"
  },
  "language_info": {
   "codemirror_mode": {
    "name": "ipython",
    "version": 3
   },
   "file_extension": ".py",
   "mimetype": "text/x-python",
   "name": "python",
   "nbconvert_exporter": "python",
   "pygments_lexer": "ipython3",
   "version": "3.4.3"
  }
 },
 "nbformat": 4,
 "nbformat_minor": 0
}

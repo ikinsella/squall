{
 "cells": [
  {
   "cell_type": "code",
   "execution_count": 2,
   "metadata": {
    "collapsed": true
   },
   "outputs": [],
   "source": [
    "from pymongo import MongoClient"
   ]
  },
  {
   "cell_type": "code",
   "execution_count": 14,
   "metadata": {
    "collapsed": true
   },
   "outputs": [],
   "source": [
    "db_name = 'squall'  # Name of database results are stored in\n",
    "experiment_name = 'TutorialExp'  # Name of experiment you want to search through"
   ]
  },
  {
   "cell_type": "code",
   "execution_count": 15,
   "metadata": {
    "collapsed": true
   },
   "outputs": [],
   "source": [
    "client = MongoClient()  # alternatively.. client = MongoClient(\"localhost\", 27017)\n",
    "db = client[db_name]\n",
    "coll = db[experiment_name]"
   ]
  },
  {
   "cell_type": "code",
   "execution_count": 22,
   "metadata": {
    "collapsed": false
   },
   "outputs": [
    {
     "name": "stdout",
     "output_type": "stream",
     "text": [
      "{u'Product': 3478759185L, u'Algorithm': {u'Name': u'Tutorial', u'Tags': []}, u'Tags': [], u'Implementation': {u'Name': u'MatFibTut', u'Tags': []}, u'fibA': 514229, u'Batch': {u'Name': u'TutorialFullSweep', u'Tags': []}, u'DataSet': {u'Name': u'TutorialDumy', u'Tags': []}, u'fibB': 6765, u'DataCollection': {u'Name': u'TutorialSim', u'Tags': []}, u'Experiment': {u'Name': u'TutorialExp', u'Tags': []}, u'params': {u'A': 29, u'B': 20}, u'_id': ObjectId('572044f36846d33315d24756'), u'cpuB': 0.32, u'id': u'099', u'cpuA': 27.26}\n"
     ]
    }
   ],
   "source": [
    "jobs = []\n",
    "results = []\n",
    "for idx, result in enumerate(coll.find()):\n",
    "    results.append(result)\n",
    "    jobs.append(result['id'])\n",
    "    if idx == 1:\n",
    "        print(result)"
   ]
  },
  {
   "cell_type": "code",
   "execution_count": 28,
   "metadata": {
    "collapsed": false
   },
   "outputs": [
    {
     "data": {
      "text/plain": [
       "580"
      ]
     },
     "execution_count": 28,
     "metadata": {},
     "output_type": "execute_result"
    }
   ],
   "source": [
    "# coll.remove({\"Batch.Name\": \"OWL-Log\"})\n",
    "20*29"
   ]
  },
  {
   "cell_type": "code",
   "execution_count": 27,
   "metadata": {
    "collapsed": false
   },
   "outputs": [
    {
     "ename": "TypeError",
     "evalue": "'long' object has no attribute '__getitem__'",
     "output_type": "error",
     "traceback": [
      "\u001b[0;31m---------------------------------------------------------------------------\u001b[0m",
      "\u001b[0;31mTypeError\u001b[0m                                 Traceback (most recent call last)",
      "\u001b[0;32m<ipython-input-27-551ca96070cb>\u001b[0m in \u001b[0;36m<module>\u001b[0;34m()\u001b[0m\n\u001b[0;32m----> 1\u001b[0;31m \u001b[0mresults\u001b[0m\u001b[0;34m[\u001b[0m\u001b[0;36m1\u001b[0m\u001b[0;34m]\u001b[0m\u001b[0;34m[\u001b[0m\u001b[0;34m'Product'\u001b[0m\u001b[0;34m]\u001b[0m\u001b[0;34m[\u001b[0m\u001b[0;34m'A'\u001b[0m\u001b[0;34m]\u001b[0m\u001b[0;34m\u001b[0m\u001b[0m\n\u001b[0m",
      "\u001b[0;31mTypeError\u001b[0m: 'long' object has no attribute '__getitem__'"
     ]
    }
   ],
   "source": [
    "results[1]['Product']['A']"
   ]
  },
  {
   "cell_type": "code",
   "execution_count": 10,
   "metadata": {
    "collapsed": false
   },
   "outputs": [
    {
     "data": {
      "text/plain": [
       "0"
      ]
     },
     "execution_count": 10,
     "metadata": {},
     "output_type": "execute_result"
    }
   ],
   "source": [
    "len(jobs)"
   ]
  },
  {
   "cell_type": "code",
   "execution_count": null,
   "metadata": {
    "collapsed": true
   },
   "outputs": [],
   "source": []
  }
 ],
 "metadata": {
  "kernelspec": {
   "display_name": "Python 2",
   "language": "python",
   "name": "python2"
  },
  "language_info": {
   "codemirror_mode": {
    "name": "ipython",
    "version": 2
   },
   "file_extension": ".py",
   "mimetype": "text/x-python",
   "name": "python",
   "nbconvert_exporter": "python",
   "pygments_lexer": "ipython2",
   "version": "2.7.10"
  }
 },
 "nbformat": 4,
 "nbformat_minor": 0
}

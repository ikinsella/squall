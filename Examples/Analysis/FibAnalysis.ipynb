{
 "cells": [
  {
   "cell_type": "code",
   "execution_count": 199,
   "metadata": {
    "collapsed": false
   },
   "outputs": [
    {
     "name": "stdout",
     "output_type": "stream",
     "text": [
      "Populating the interactive namespace from numpy and matplotlib\n"
     ]
    }
   ],
   "source": [
    "from pymongo import MongoClient\n",
    "import numpy as np\n",
    "import pandas as pd\n",
    "import matplotlib.pyplot as plt\n",
    "import seaborn\n",
    "%pylab inline\n",
    "pylab.rcParams['figure.figsize'] = (14, 7)"
   ]
  },
  {
   "cell_type": "markdown",
   "metadata": {
    "collapsed": true
   },
   "source": [
    "# Establish Connection To MongoDB"
   ]
  },
  {
   "cell_type": "markdown",
   "metadata": {},
   "source": [
    "In this section, we demonstrate how to open a connection to MongoDB using pymongo. To do so, we will use the name of the application, 'squall', to connect to the correct database and the name of the experiment we want to query to extract the correct collection of documents (job results). Additional details for pymongo can be found in the official [documentation](https://docs.mongodb.org/getting-started/python/client/)."
   ]
  },
  {
   "cell_type": "code",
   "execution_count": 119,
   "metadata": {
    "collapsed": true
   },
   "outputs": [],
   "source": [
    "# Database Parameters\n",
    "db_name = 'squall'  # Name of Application\n",
    "coll_name = 'Fibonacci Demo'  # Name of Experiment"
   ]
  },
  {
   "cell_type": "code",
   "execution_count": 120,
   "metadata": {
    "collapsed": true
   },
   "outputs": [],
   "source": [
    "# Connect to database and extract collection\n",
    "client = MongoClient(\"localhost\", 27017)\n",
    "db = client[db_name]\n",
    "coll = db[coll_name]"
   ]
  },
  {
   "cell_type": "markdown",
   "metadata": {},
   "source": [
    "# Fromatting Data With MongoDB & Pandas"
   ]
  },
  {
   "cell_type": "markdown",
   "metadata": {},
   "source": [
    "The Pandas DataFrame structure in python makes exploration and analysis of results a breeze. While there are countless ways to go about analyzing your data, this method is particularly quick and easy. The following sections demonstrate how to go about getting your data from MongoDB into a DataFrame."
   ]
  },
  {
   "cell_type": "markdown",
   "metadata": {},
   "source": [
    "## Writing Queries & Creating DataFrames"
   ]
  },
  {
   "cell_type": "markdown",
   "metadata": {},
   "source": [
    " In this section, we will query MongoDB for all results where param A is equal to param B and create a separate DataFrame for results generated with different implementations (MATLAB, Python, or R)."
   ]
  },
  {
   "cell_type": "markdown",
   "metadata": {},
   "source": [
    "### MATLAB Results"
   ]
  },
  {
   "cell_type": "markdown",
   "metadata": {},
   "source": [
    "The syntax for querying the database with pymongo is detailed in teh official pymongo [documentation](https://docs.mongodb.org/getting-started/python/query/). Here we will extract all documents (job results) from our experiment where the parameter 'A' is equal to the parameter 'B' AND a certain Tag is present (in this case refering to the language of the implementation)."
   ]
  },
  {
   "cell_type": "code",
   "execution_count": 176,
   "metadata": {
    "collapsed": false
   },
   "outputs": [],
   "source": [
    "lang = \"MATLAB\"\n",
    "query = { \"$where\": \"this.params.A == this.params.B\", \"Tags\": lang }\n",
    "matlab = pd.DataFrame(np.array([(job['Product'],\n",
    "                                 job['params']['A']+job['params']['B'],\n",
    "                                 job['params']['A']*job['params']['B'],\n",
    "                                 job['cpuA'] + job['cpuB'],\n",
    "                                 job['cpuA'] * job['cpuB'],\n",
    "                                 job['params']['A'],\n",
    "                                 job['fibA'],\n",
    "                                 job['cpuA'],\n",
    "                                 job['params']['B'],\n",
    "                                 job['fibB'],\n",
    "                                 job['cpuB']) \n",
    "                                 for job in coll.find(query)]),\n",
    "                       columns=['product', 'A+B', 'AxB', 'cpu+', 'cpu*',\n",
    "                                'A', 'fibA', 'cpuA',\n",
    "                                'B', 'fibB', 'cpuB'])"
   ]
  },
  {
   "cell_type": "markdown",
   "metadata": {},
   "source": [
    "### Python Results"
   ]
  },
  {
   "cell_type": "markdown",
   "metadata": {},
   "source": [
    "Note that in this section, we had to adjust the 'p' in Product to be lower case. This is due to the fact that the implementation at the time of the batch had been written to store the field as an upper case"
   ]
  },
  {
   "cell_type": "code",
   "execution_count": 122,
   "metadata": {
    "collapsed": true
   },
   "outputs": [],
   "source": [
    "lang = \"Python\"\n",
    "query = { \"$where\": \"this.params.A == this.params.B\", \"Tags\": lang }\n",
    "python = pd.DataFrame(np.array([(job['product'],\n",
    "                                 job['params']['A']+job['params']['B'],\n",
    "                                 job['params']['A']*job['params']['B'],\n",
    "                                 job['cpuA'] + job['cpuB'],\n",
    "                                 job['cpuA'] * job['cpuB'],\n",
    "                                 job['params']['A'],\n",
    "                                 job['fibA'],\n",
    "                                 job['cpuA'],\n",
    "                                 job['params']['B'],\n",
    "                                 job['fibB'],\n",
    "                                 job['cpuB']) \n",
    "                                 for job in coll.find(query)]),\n",
    "                       columns=['product', 'A+B', 'AxB', 'cpu+', 'cpu*',\n",
    "                                'A', 'fibA', 'cpuA',\n",
    "                                'B', 'fibB', 'cpuB'])"
   ]
  },
  {
   "cell_type": "markdown",
   "metadata": {},
   "source": [
    "### R Results"
   ]
  },
  {
   "cell_type": "markdown",
   "metadata": {},
   "source": [
    "Note that in this section, there are some adjustments made to the way data is being manipulated before being stored in the dataframe. This is because in R everything is a vector and thus, even scalar values were written to json as if they were a list. To avoid running into errors while analyzing the data, this must be accounted for."
   ]
  },
  {
   "cell_type": "code",
   "execution_count": 123,
   "metadata": {
    "collapsed": false
   },
   "outputs": [],
   "source": [
    "lang = \"R\"\n",
    "query = { \"$where\": \"this.params.A == this.params.B\", \"Tags\": lang }\n",
    "r = pd.DataFrame(np.array([(job['product'][0],\n",
    "                            job['params']['A']+job['params']['B'],\n",
    "                            job['params']['A']*job['params']['B'],\n",
    "                            job['cpuA'][0] + job['cpuB'][0],\n",
    "                            job['cpuA'][0] * job['cpuB'][0],\n",
    "                            job['params']['A'],\n",
    "                            job['fibA'][0],\n",
    "                            job['cpuA'][0],\n",
    "                            job['params']['B'],\n",
    "                            job['fibB'][0],\n",
    "                            job['cpuB'][0]) \n",
    "                                 for job in coll.find(query)]),\n",
    "                       columns=['product', 'A+B', 'AxB', 'cpu+', 'cpu*',\n",
    "                                'A', 'fibA', 'cpuA',\n",
    "                                'B', 'fibB', 'cpuB'])"
   ]
  },
  {
   "cell_type": "markdown",
   "metadata": {},
   "source": [
    "## Additional Manipulations"
   ]
  },
  {
   "cell_type": "markdown",
   "metadata": {},
   "source": [
    "The DataFrame stores data in a structured format which can be accessed by attribute names, combined with other data, or further filtered by the values of these attributes. These processes are convenient as they provide a means to rearrange the way our data is formatted. Additional detail on DataFrame objects can be found in the official Pandas [documentation](http://pandas.pydata.org/pandas-docs/version/0.17.1/api.html). In this section we demonstrate a couple of the manipulations that can be performed."
   ]
  },
  {
   "cell_type": "markdown",
   "metadata": {},
   "source": [
    "### Accessing Elements"
   ]
  },
  {
   "cell_type": "markdown",
   "metadata": {},
   "source": [
    "Elements can be accessed by column (attribute):"
   ]
  },
  {
   "cell_type": "code",
   "execution_count": 184,
   "metadata": {
    "collapsed": false
   },
   "outputs": [
    {
     "name": "stdout",
     "output_type": "stream",
     "text": [
      "0     3.858003e+10\n",
      "1     3.858003e+10\n",
      "2     1.198149e+08\n",
      "3     6.922906e+11\n",
      "4     3.136795e+08\n",
      "5     2.644315e+11\n",
      "6     2.149991e+09\n",
      "7     5.628751e+09\n",
      "8     1.473626e+10\n",
      "9     8.212236e+08\n",
      "10    3.858003e+10\n",
      "11    3.858003e+10\n",
      "12    4.576522e+07\n",
      "13    3.136795e+08\n",
      "14    8.212236e+08\n",
      "15    4.576522e+07\n",
      "16    1.198149e+08\n",
      "17    1.473626e+10\n",
      "18    3.858003e+10\n",
      "19    2.149991e+09\n",
      "20    5.628751e+09\n",
      "21    3.858003e+10\n",
      "22    2.644315e+11\n",
      "23    6.922906e+11\n",
      "Name: product, dtype: float64\n"
     ]
    }
   ],
   "source": [
    "print(r['product'])"
   ]
  },
  {
   "cell_type": "markdown",
   "metadata": {},
   "source": [
    "By document (job):"
   ]
  },
  {
   "cell_type": "code",
   "execution_count": 195,
   "metadata": {
    "collapsed": false
   },
   "outputs": [
    {
     "name": "stdout",
     "output_type": "stream",
     "text": [
      "product    3.858003e+10\n",
      "A+B        5.400000e+01\n",
      "AxB        7.290000e+02\n",
      "cpu+       1.557000e+00\n",
      "cpu*       6.060500e-01\n",
      "A          2.700000e+01\n",
      "fibA       1.964180e+05\n",
      "cpuA       7.820000e-01\n",
      "B          2.700000e+01\n",
      "fibB       1.964180e+05\n",
      "cpuB       7.750000e-01\n",
      "Name: 0, dtype: float64\n"
     ]
    }
   ],
   "source": [
    "print(r.ix[0])"
   ]
  },
  {
   "cell_type": "markdown",
   "metadata": {},
   "source": [
    "Or even transformin into a matrix (2D numpy array):"
   ]
  },
  {
   "cell_type": "code",
   "execution_count": 192,
   "metadata": {
    "collapsed": false,
    "scrolled": false
   },
   "outputs": [
    {
     "name": "stdout",
     "output_type": "stream",
     "text": [
      "38580030724.0\n",
      "38580030724.0\n"
     ]
    }
   ],
   "source": [
    "print(r['product'][0])\n",
    "print(r.as_matrix()[0,0])"
   ]
  },
  {
   "cell_type": "markdown",
   "metadata": {},
   "source": [
    "### Combining DataFrames"
   ]
  },
  {
   "cell_type": "markdown",
   "metadata": {},
   "source": [
    "DataFrames can be appended if you wish to combine results from multiple eperiments or batches. This can work even if they don't share all of the same attributes. In the case of attribute mismatch, entries without a particular attribute will receive Nan entries. Here we demonstrate by combining the results from the 3 DataFrames previously constructed."
   ]
  },
  {
   "cell_type": "code",
   "execution_count": 125,
   "metadata": {
    "collapsed": false
   },
   "outputs": [
    {
     "data": {
      "text/plain": [
       "(72, 11)"
      ]
     },
     "execution_count": 125,
     "metadata": {},
     "output_type": "execute_result"
    }
   ],
   "source": [
    "results = r.append(matlab.append(python))  # conglomerate into one DataFrame\n",
    "results.as_matrix().shape"
   ]
  },
  {
   "cell_type": "markdown",
   "metadata": {},
   "source": [
    "### Filtering"
   ]
  },
  {
   "cell_type": "markdown",
   "metadata": {},
   "source": [
    "Data in the DataFrame can be further filtered based on their values similar to querying the database (although the syntax differs). Here we demonstrate by extracting all jobs where the compute time of the first fibonacci number was smaller than the second."
   ]
  },
  {
   "cell_type": "code",
   "execution_count": 159,
   "metadata": {
    "collapsed": false
   },
   "outputs": [
    {
     "name": "stdout",
     "output_type": "stream",
     "text": [
      "(14, 11)\n"
     ]
    }
   ],
   "source": [
    "print(results[results['cpuA'] < results['cpuB']].shape)"
   ]
  },
  {
   "cell_type": "markdown",
   "metadata": {},
   "source": [
    "# Exploration & Analysis"
   ]
  },
  {
   "cell_type": "markdown",
   "metadata": {},
   "source": [
    "In this section, we provide examples of how easy it is to analyze, explore, and visualize your data once it is in the DataFrame object."
   ]
  },
  {
   "cell_type": "markdown",
   "metadata": {},
   "source": [
    "## Summary Stats"
   ]
  },
  {
   "cell_type": "markdown",
   "metadata": {},
   "source": [
    "DataFrames provide a number of buiult-in methods to ease analysis and exploration. As an example, we demonstrate some of these methods by accessing summary statistics for certain attributes. Note that we first filter the dataframes so that our summary statistics are for a narrowed subset of all of the documents (jobs). Further details on these methods can be found in the official [documentation](http://pandas.pydata.org/pandas-docs/version/0.17.1/generated/pandas.DataFrame.html)."
   ]
  },
  {
   "cell_type": "code",
   "execution_count": 170,
   "metadata": {
    "collapsed": false
   },
   "outputs": [
    {
     "name": "stdout",
     "output_type": "stream",
     "text": [
      "0.205\n",
      "0.00533103942871\n",
      "0.042\n"
     ]
    }
   ],
   "source": [
    "param = 20\n",
    "print(matlab[matlab['A'] == param]['cpuA'].mean())\n",
    "print(python[python['A'] == param]['cpuA'].mean())\n",
    "print(r[r['A'] == param]['cpuA'].mean())"
   ]
  },
  {
   "cell_type": "code",
   "execution_count": 171,
   "metadata": {
    "collapsed": false
   },
   "outputs": [
    {
     "name": "stdout",
     "output_type": "stream",
     "text": [
      "0.0212132034356\n",
      "0.00145086311314\n",
      "0.0169705627485\n"
     ]
    }
   ],
   "source": [
    "print(matlab[matlab['A'] == param]['cpuA'].std())\n",
    "print(python[python['A'] == param]['cpuA'].std())\n",
    "print(r[r['A'] == param]['cpuA'].std())"
   ]
  },
  {
   "cell_type": "markdown",
   "metadata": {},
   "source": [
    "## Plots"
   ]
  },
  {
   "cell_type": "markdown",
   "metadata": {},
   "source": [
    "Much like the summary statistic methods, pandas DataFrames contain methods to ease plotting and visualization. These examples explore the differences in compute time for the different implementations."
   ]
  },
  {
   "cell_type": "markdown",
   "metadata": {},
   "source": [
    "### MATALB CPU Times"
   ]
  },
  {
   "cell_type": "code",
   "execution_count": 209,
   "metadata": {
    "collapsed": false,
    "scrolled": false
   },
   "outputs": [
    {
     "data": {
      "image/png": "[encoded data removed]",
      "text/plain": [
       "<matplotlib.figure.Figure at 0x10c35ae10>"
      ]
     },
     "metadata": {},
     "output_type": "display_data"
    }
   ],
   "source": [
    "fig = matlab.boxplot(by=['AxB'], column='cpu*')\n",
    "plt.show()"
   ]
  },
  {
   "cell_type": "markdown",
   "metadata": {},
   "source": [
    "### Python CPU Times"
   ]
  },
  {
   "cell_type": "code",
   "execution_count": 210,
   "metadata": {
    "collapsed": false
   },
   "outputs": [
    {
     "data": {
      "image/png": "[encoded data removed]",
      "text/plain": [
       "<matplotlib.figure.Figure at 0x10dd79e80>"
      ]
     },
     "metadata": {},
     "output_type": "display_data"
    }
   ],
   "source": [
    "python.boxplot(by=['AxB'], column='cpu*')\n",
    "plt.show()"
   ]
  },
  {
   "cell_type": "markdown",
   "metadata": {},
   "source": [
    "### R CPU Times"
   ]
  },
  {
   "cell_type": "code",
   "execution_count": 211,
   "metadata": {
    "collapsed": false
   },
   "outputs": [
    {
     "data": {
      "image/png": "[encoded data removed]",
      "text/plain": [
       "<matplotlib.figure.Figure at 0x10d321208>"
      ]
     },
     "metadata": {},
     "output_type": "display_data"
    }
   ],
   "source": [
    "r.boxplot(by=['AxB'], column='cpu*')\n",
    "plt.show()"
   ]
  },
  {
   "cell_type": "markdown",
   "metadata": {},
   "source": [
    "### Scatter Plots Of Sequence"
   ]
  },
  {
   "cell_type": "code",
   "execution_count": 219,
   "metadata": {
    "collapsed": false
   },
   "outputs": [
    {
     "data": {
      "image/png": "[encoded data removed]",
      "text/plain": [
       "<matplotlib.figure.Figure at 0x10d7d6e10>"
      ]
     },
     "metadata": {},
     "output_type": "display_data"
    }
   ],
   "source": [
    "results.plot(kind='scatter', x='A', y='fibA', title=\"Fibonacci Sequence Growth\")\n",
    "plt.show()"
   ]
  },
  {
   "cell_type": "code",
   "execution_count": null,
   "metadata": {
    "collapsed": true
   },
   "outputs": [],
   "source": []
  }
 ],
 "metadata": {
  "kernelspec": {
   "display_name": "Python 3",
   "language": "python",
   "name": "python3"
  },
  "language_info": {
   "codemirror_mode": {
    "name": "ipython",
    "version": 3
   },
   "file_extension": ".py",
   "mimetype": "text/x-python",
   "name": "python",
   "nbconvert_exporter": "python",
   "pygments_lexer": "ipython3",
   "version": "3.4.3"
  }
 },
 "nbformat": 4,
 "nbformat_minor": 0
}

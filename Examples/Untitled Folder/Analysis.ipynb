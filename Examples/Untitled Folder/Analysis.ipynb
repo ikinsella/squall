{
 "cells": [
  {
   "cell_type": "code",
   "execution_count": 16,
   "metadata": {
    "collapsed": true
   },
   "outputs": [],
   "source": [
    "from pymongo import MongoClient"
   ]
  },
  {
   "cell_type": "code",
   "execution_count": 17,
   "metadata": {
    "collapsed": true
   },
   "outputs": [],
   "source": [
    "db_name = 'appname'  # Name of database results are stored in\n",
    "experiment_name = 'Simulations'  # Name of experiment you want to search through"
   ]
  },
  {
   "cell_type": "code",
   "execution_count": 46,
   "metadata": {
    "collapsed": true
   },
   "outputs": [],
   "source": [
    "client = MongoClient()  # alternatively.. client = MongoClient(\"localhost\", 27017)\n",
    "db = client[db_name]\n",
    "coll = db[experiment_name]"
   ]
  },
  {
   "cell_type": "code",
   "execution_count": 101,
   "metadata": {
    "collapsed": false
   },
   "outputs": [],
   "source": [
    "jobs = []\n",
    "for result in coll.find({\"params.Alphas\": {\"$gt\": 0}, \"Tags\": \"Lin\"}):\n",
    "    jobs.append(result['id'])\n",
    "    if idx == 1:\n",
    "        print(result)"
   ]
  },
  {
   "cell_type": "code",
   "execution_count": 87,
   "metadata": {
    "collapsed": false
   },
   "outputs": [
    {
     "data": {
      "text/plain": [
       "u'SWOG-Log'"
      ]
     },
     "execution_count": 87,
     "metadata": {},
     "output_type": "execute_result"
    }
   ],
   "source": [
    "# coll.remove({\"Batch.Name\": \"OWL-Log\"})\n",
    "result['Batch']['Name']"
   ]
  },
  {
   "cell_type": "code",
   "execution_count": 88,
   "metadata": {
    "collapsed": false
   },
   "outputs": [
    {
     "data": {
      "text/plain": [
       "{u'Alphas': [0, 0.1, 0.2, 0.3, 0.4, 0.5, 0.6, 0.7, 0.8, 0.9, 1.0],\n",
       " u'D': 0.1,\n",
       " u'GroupOrder': u'constant',\n",
       " u'HTCondor': True,\n",
       " u'K': 3,\n",
       " u'Lambdas': [0.1, 0.5, 1, 5, 10, 50, 100, 500, 1000, 5000, 10000],\n",
       " u'N': 100,\n",
       " u'O': 25,\n",
       " u'Order': u'constant',\n",
       " u'P': 1000,\n",
       " u'Probability': u'log',\n",
       " u'RndSeed': True,\n",
       " u'Seed1': 9,\n",
       " u'Seed10': 9,\n",
       " u'Seed100': 9,\n",
       " u'Thresholds': [0, 0.1, 0.2, 0.3, 0.4, 0.5],\n",
       " u'V': 3,\n",
       " u'Weighted': True,\n",
       " u'WriteToJSON': True,\n",
       " u'WriteToMat': False}"
      ]
     },
     "execution_count": 88,
     "metadata": {},
     "output_type": "execute_result"
    }
   ],
   "source": [
    "result['params']"
   ]
  },
  {
   "cell_type": "code",
   "execution_count": 94,
   "metadata": {
    "collapsed": false
   },
   "outputs": [
    {
     "data": {
      "text/plain": [
       "6000"
      ]
     },
     "execution_count": 94,
     "metadata": {},
     "output_type": "execute_result"
    }
   ],
   "source": [
    "len(jobs)"
   ]
  },
  {
   "cell_type": "code",
   "execution_count": null,
   "metadata": {
    "collapsed": true
   },
   "outputs": [],
   "source": []
  }
 ],
 "metadata": {
  "kernelspec": {
   "display_name": "Python 2",
   "language": "python",
   "name": "python2"
  },
  "language_info": {
   "codemirror_mode": {
    "name": "ipython",
    "version": 2
   },
   "file_extension": ".py",
   "mimetype": "text/x-python",
   "name": "python",
   "nbconvert_exporter": "python",
   "pygments_lexer": "ipython2",
   "version": "2.7.10"
  }
 },
 "nbformat": 4,
 "nbformat_minor": 0
}
